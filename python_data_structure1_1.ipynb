{
  "nbformat": 4,
  "nbformat_minor": 0,
  "metadata": {
    "colab": {
      "name": "python_data_structure1-1.ipynb",
      "provenance": []
    },
    "kernelspec": {
      "name": "python3",
      "display_name": "Python 3"
    },
    "language_info": {
      "name": "python"
    }
  },
  "cells": [
    {
      "cell_type": "code",
      "metadata": {
        "colab": {
          "base_uri": "https://localhost:8080/"
        },
        "id": "rHP2wJdzyn65",
        "outputId": "9527d333-f89c-4150-f1d9-ad46711bae8b"
      },
      "source": [
        "#1-1 \n",
        "#세 정수의 최댓값 구하기\n",
        "print('세 정수의 최댓값을 구합니다')\n",
        "a = int(input('정수 a의 값을 입력하세요'))\n",
        "b = int(input('정수 b의 값을 입력하세요'))\n",
        "c = int(input('정수 c의 값을 입력하세요'))\n",
        "\n",
        "maximum = a\n",
        "if b > maximum: maximum = b # :은 줄나눔 표시\n",
        "if c > maximum: maximum = c\n",
        "\n",
        "print(f'최댓값은 {maximum} 입니다.')"
      ],
      "execution_count": null,
      "outputs": [
        {
          "output_type": "stream",
          "name": "stdout",
          "text": [
            "세 정수의 최댓값을 구합니다\n",
            "정수 a의 값을 입력하세요3\n",
            "정수 b의 값을 입력하세요2\n",
            "정수 c의 값을 입력하세요1\n",
            "최댓값은 3 입니다.\n"
          ]
        }
      ]
    },
    {
      "cell_type": "markdown",
      "metadata": {
        "id": "4Snv3EqN5ISq"
      },
      "source": [
        ""
      ]
    },
    {
      "cell_type": "markdown",
      "metadata": {
        "id": "LwGPXuyY3x3H"
      },
      "source": [
        "준차적으로 실행되는 구조를 순차구조라고 한다.\n",
        "조건식을 통해서 평과한 결과에 따라 프로그램 실행 흐름 바뀌는 것을 선택구조라고 한다."
      ]
    },
    {
      "cell_type": "code",
      "metadata": {
        "colab": {
          "base_uri": "https://localhost:8080/"
        },
        "id": "3O1qsFT04PP1",
        "outputId": "af2115b0-e892-4424-bb72-bf23f7d72d51"
      },
      "source": [
        "#실습 1c-1\n",
        "print('이름을 입력하세요.:',end = '')# end = ''이것은 문자열을 바꾸지 않고 옆에 붙여쓰는 명령어\n",
        "name = input()\n",
        "print(f'안녕하세요?{name}님.')\n"
      ],
      "execution_count": null,
      "outputs": [
        {
          "output_type": "stream",
          "name": "stdout",
          "text": [
            "이름을 입력하세요.:최진호\n",
            "안녕하세요?최진호님.\n"
          ]
        }
      ]
    },
    {
      "cell_type": "markdown",
      "metadata": {
        "id": "NeblCVNS5A5m"
      },
      "source": [
        "알고리즘의 흐름이 두갈래로 나뉘는 것을 양 갈래 선택이라 한다."
      ]
    },
    {
      "cell_type": "markdown",
      "metadata": {
        "id": "5NdsdLOBVctB"
      },
      "source": [
        "알고리즘: 어떠한 경우에도 실행 결과가 똑같이 나오는 것"
      ]
    },
    {
      "cell_type": "code",
      "metadata": {
        "id": "wPH4K-wCzeCF"
      },
      "source": [
        "if a < b:\n",
        "    min2 = a #공백 4개로 들여쓰기\n",
        "    max2 = b #이 문장도 공백 4개로 들여쓰기를 해야 if a < b:에 종속되어 실행됨"
      ],
      "execution_count": null,
      "outputs": []
    },
    {
      "cell_type": "code",
      "metadata": {
        "id": "VSjC5NUeWsdu"
      },
      "source": [
        "if a < b: min2 = a\n",
        "if a < b: min2 = a; max2 = b \n",
        "if a < b: min2 = a; max2 = b;"
      ],
      "execution_count": null,
      "outputs": []
    },
    {
      "cell_type": "code",
      "metadata": {
        "colab": {
          "base_uri": "https://localhost:8080/"
        },
        "id": "iVhZkFNKXf8n",
        "outputId": "5c8d0f53-6a57-4777-c443-17971a74acbc"
      },
      "source": [
        "#실습 1c - 2\n",
        "def med3(a,b,c):\n",
        "    if a >= b:\n",
        "        if a >= c:\n",
        "            return b\n",
        "        elif a <= c:\n",
        "            return a\n",
        "        else:\n",
        "            return c\n",
        "    elif a > c:\n",
        "        return a\n",
        "    elif b > c:\n",
        "        return c\n",
        "    else:\n",
        "        return b\n",
        "\n",
        "print('세 정수의 중앙값을 구합니다')\n",
        "a = int(input('정수 a의 값을 입력하세요.:'))\n",
        "b = int(input('정수 b의 값을 입력하세요.:'))\n",
        "c = int(input('정수 c의 값을 입력하세요.:'))\n",
        "\n",
        "print(f'중앙값은 {med3(a, b ,c)}입니다.')"
      ],
      "execution_count": null,
      "outputs": [
        {
          "output_type": "stream",
          "name": "stdout",
          "text": [
            "세 정수의 중앙값을 구합니다\n",
            "정수 a의 값을 입력하세요.:3\n",
            "정수 b의 값을 입력하세요.:6\n",
            "정수 c의 값을 입력하세요.:1\n",
            "중앙값은 3입니다.\n"
          ]
        }
      ]
    },
    {
      "cell_type": "code",
      "metadata": {
        "id": "1xtRDPCfXewv"
      },
      "source": [
        "def med3(a,b,c):\n",
        "    if (b >= a and c <= a) or (b <= a and c>= a):\n",
        "        return a\n",
        "    elif (a > b and c < b) or (a < b and c > b):\n",
        "        return b\n",
        "    return c\n",
        "    \n",
        "print('세 정수의 중앙값을 구합니다')\n",
        "a = int(input('정수 a의 값을 입력하세요.:'))\n",
        "b = int(input('정수 b의 값을 입력하세요.:'))\n",
        "c = int(input('정수 c의 값을 입력하세요.:'))\n",
        "\n",
        "print(f'중앙값은 {med3(a, b ,c)}입니다.')"
      ],
      "execution_count": null,
      "outputs": []
    },
    {
      "cell_type": "markdown",
      "metadata": {
        "id": "r4qsyyx6a96c"
      },
      "source": [
        "위의 코드는 길이는 짧지만 효율적인 코드는 아니다 위에서 a와b의 값을 비교한 후 또다시 비교하는 것은 효율적이지 않습니다."
      ]
    },
    {
      "cell_type": "code",
      "metadata": {
        "id": "kjEsivePbPKL"
      },
      "source": [
        "#실습 1-3\n",
        "n = int(input('정수를 입력하세요.:'))\n",
        "\n",
        "if n > 0:\n",
        "    print('이 수는 양수입니다.')\n",
        "elif n < 0:\n",
        "    print('이 수는 음수입니다.')\n",
        "else:\n",
        "    print('이 수는 0입니다.')"
      ],
      "execution_count": null,
      "outputs": []
    },
    {
      "cell_type": "markdown",
      "metadata": {
        "id": "kNfhvn7GbrXt"
      },
      "source": [
        "실행되는 부분은 1가지 부분이다. 흐름이 3개로 분리되기 때문이다."
      ]
    },
    {
      "cell_type": "markdown",
      "metadata": {
        "id": "VugVXjpKcAM9"
      },
      "source": [
        "연산자 종류\n",
        "단항 연산자\n",
        "이항 연잔자\n",
        "삼항 연산자"
      ]
    },
    {
      "cell_type": "markdown",
      "metadata": {
        "id": "0FUwPGDAc1Gb"
      },
      "source": [
        "\n",
        "1. 데이터: 데이터는 기억장치를 지정하지 않은 데이터 자체를 나타낸다\n",
        "2. 처리: 여러 종류의 처리기능 나타냄 정보의 값,형,위치를 바꾸도록 정의한 연산이나 연산 집합의 실행, 또는 연속하는 몇가지 흐름 가운데 하나의 방향을 결정하는 연산이나 집합의 실행을 나타냄\n",
        "3. 미리 정의한 처리: 서브루틴이나 모듈등 다른 곳에서 이미 정의한 하나이상의 연산이나 명령으로 이루어짐\n",
        "4. 판단 하나의 입구와 하나이상의 출구가 있고 조건을 평가하여 하나의 출구를 선택하는 기능\n",
        "5. 루프 범위: 두 부분으로 구성되어 루프의 시작과 종료를 나타냄 \n",
        "6. 선: 제어의 흐름 \n",
        "7. 단말: 외부환경으로 나가거나 외부환경에서 들어오는 것을 나타냄 주로 시작과 \n",
        "종료 "
      ]
    },
    {
      "cell_type": "markdown",
      "metadata": {
        "id": "lCz5QSj6dunV"
      },
      "source": [
        ""
      ]
    },
    {
      "cell_type": "code",
      "metadata": {
        "id": "O_rdNg3jbzr6"
      },
      "source": [
        ""
      ],
      "execution_count": null,
      "outputs": []
    }
  ]
}