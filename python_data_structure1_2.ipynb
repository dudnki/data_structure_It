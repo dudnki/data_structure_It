{
  "nbformat": 4,
  "nbformat_minor": 0,
  "metadata": {
    "colab": {
      "name": "python_data_structure1-2.ipynb",
      "provenance": []
    },
    "kernelspec": {
      "name": "python3",
      "display_name": "Python 3"
    },
    "language_info": {
      "name": "python"
    }
  },
  "cells": [
    {
      "cell_type": "code",
      "metadata": {
        "id": "Y5QHZH8oKsBJ"
      },
      "source": [
        "#1-7\n",
        "#1부터 n까지 정수의 합구하기\n",
        "print('1부터 n까지 정수의 합을 구합니다.')\n",
        "n = int(input('n의 값을 입력하세요:'))\n",
        "\n",
        "sum = 0\n",
        "i = 1\n",
        "\n",
        "while i <= n:# i가 n보다 작거나 같을 때 반복\n",
        "    sum += i #sum에 i를 더함///여기에서 i는 반복을 제어하는 변수임으로 카운터용 변수이다.\n",
        "    i +=1    #i에 i을 더함\n",
        "print(f\"1부터 {n}까지 합은 {sum}입니다.\")\n",
        "    \n",
        "    \n",
        "    "
      ],
      "execution_count": null,
      "outputs": []
    },
    {
      "cell_type": "code",
      "metadata": {
        "id": "Mcn3GUdkMzD6"
      },
      "source": [
        "#1-8\n",
        "#1부터 n까지 정수의 합 구하기2\n",
        "print('1부터 n까지 정수의 합을 구합니다.')\n",
        "n = int(input('n의 값을 입력하세요:'))\n",
        "\n",
        "sum = 0\n",
        "for i in range(1, n+1):\n",
        "    sum += 1\n",
        "    \n",
        "print(f\"1부터 {n}까지 합은 {sum}입니다.\")"
      ],
      "execution_count": null,
      "outputs": []
    },
    {
      "cell_type": "code",
      "metadata": {
        "id": "g41SFt8bNtwH"
      },
      "source": [
        "#1-9\n",
        "#a부터 b까지 정수의 합 구하기\n",
        "print('a부터 b까지 정수의 합을 구합니다')\n",
        "a = int(input('정수 a를 입력하세요'))\n",
        "b = int(input('정수 b를 입력하세요'))\n",
        "\n",
        "if a > b:\n",
        "    a, b = b, a #오름차순으로 정렬/// 우변의 b,a에 의해서 두 값이 (b,a)가 생성됩니다.대입할 때 (b,a)를 풀어 a,b에 대입합니다.\n",
        "sum = 0 \n",
        "for i in range(a, b+1):\n",
        "    sum += i    #sum에 i를 더함\n",
        "print(f'{a}부터 {b}까지 정수의 합은 {sum}입니다.')\n",
        "\n",
        "\n"
      ],
      "execution_count": null,
      "outputs": []
    },
    {
      "cell_type": "code",
      "metadata": {
        "id": "AQN5L4VpPE03"
      },
      "source": [
        "#1 -10\n",
        "#a 부터 b까지 정수의 합 구하기\n",
        "\n",
        "print('a부터 b까지 정수의 합을 구합니다.')\n",
        "a = int(input('정수 a를 입력하세요'))\n",
        "b = int(input('정수 b를 입력하세요'))\n",
        "\n",
        "if a > b:\n",
        "    a, b = b, a\n",
        "\n",
        "sum = 0\n",
        "for i in range(a , b +1):\n",
        "    if i < b: #i가 b보다 작으면 합을 구하는 과정 출력\n",
        "        print(f'{i} +',end  = '') # '3+''4+',,, \n",
        "    else:     #i가 b보다 크거나 같으면 최종값을 위해서 i=을 출력\n",
        "        print(f'{i} +',end = '') # 마지막에 '마지막 값 ='\n",
        "    sum += i\n",
        "print(sum)"
      ],
      "execution_count": null,
      "outputs": []
    },
    {
      "cell_type": "code",
      "metadata": {
        "id": "r_5atAGzTXlf"
      },
      "source": [
        "# 1-11\n",
        "# a부터 b까지 정수의 합 구하기\n",
        "\n",
        "print('a부터 b까지 정수의 합을 구합니다.')\n",
        "a = int(input('정수 a를 입력하세요'))\n",
        "b = int(input('정수 b를 입력하세요'))\n",
        "\n",
        "if a > b:\n",
        "    a,b = b,a\n",
        "sum = 0\n",
        "for i in range(a,b):\n",
        "    print(f'{i} +',end ='')\n",
        "    sum += i #sum에 i를 더함\n",
        "\n",
        "print(f'{b} = ',end = '')\n",
        "sum += b\n",
        "\n",
        "print(sum)"
      ],
      "execution_count": null,
      "outputs": []
    },
    {
      "cell_type": "code",
      "metadata": {
        "id": "3a_qkw5KXj_2"
      },
      "source": [
        "#1-12\n",
        "# +와 -를 번갈아 출력하기\n",
        "print('+와 -를 번갈아 출력합니다.')\n",
        "n = int(input('몇 개를 출력할까요?:'))\n",
        "\n",
        "for i in range(n+1):# +1 해줘야 하는 이유는 하나 전까지만 하기 때문이다\n",
        "    if i % 2:\n",
        "        print('-',end ='')\n",
        "    else:\n",
        "        print('+',end ='')\n"
      ],
      "execution_count": null,
      "outputs": []
    },
    {
      "cell_type": "code",
      "metadata": {
        "id": "kcDvmrfjYqSP"
      },
      "source": [
        "#1 - 13\n",
        "#+와 -번갈아 가면서 출력하기2\n",
        "\n",
        "print('+와 - 를 번갈아 출력합니다')\n",
        "n = int(input('몇 개를 출력할까요?:'))\n",
        "\n",
        "for _ in range(n//2):\n",
        "    print('+-', end ='') #+-를 n//2개의 출력\n",
        "if n%2:\n",
        "    print('+',end = '')  #n이 홀수일 때만 +를 출력"
      ],
      "execution_count": null,
      "outputs": []
    },
    {
      "cell_type": "code",
      "metadata": {
        "id": "KQOwC2uqaJUw"
      },
      "source": [
        "#1 -14\n",
        "#*를 n개 출력하되 w개마다 줄바꿈하기\n",
        "print('*을 출력')\n",
        "n = int(input('몇 개를 출력할까요?:'))\n",
        "w = int(input('몇 개마다 줄바꿈 할까요?'))\n",
        "\n",
        "for i in range(n): #n번 반복\n",
        "    print('*',end = '')\n",
        "    if i% w == w -1: #n번 판단\n",
        "        print()      #줄바꿈\n",
        "if n%w:\n",
        "    print()"
      ],
      "execution_count": null,
      "outputs": []
    },
    {
      "cell_type": "code",
      "metadata": {
        "id": "au9lYbY6bMsf"
      },
      "source": [
        "1- 15\n",
        "# *를 n개 출력하되 w개 마다 줄바꿈하기\n",
        "\n",
        "print('*을 출력합니다')\n",
        "n = int(input('몇 개를 출력할까요?:'))\n",
        "w = int(input('몇 개마다 줄바꿈 할까요?'))\n",
        "\n",
        "for _ in range(n//w): # n//w번 반복한다\n",
        "    print('*'*w)\n",
        "\n",
        "rest = n % w\n",
        "if rest: # rest값이 저장되어 있으면\n",
        "    print('*' *rest)"
      ],
      "execution_count": null,
      "outputs": []
    },
    {
      "cell_type": "code",
      "metadata": {
        "id": "ybgjI8Qrc9TU"
      },
      "source": [
        "while True:\n",
        "    n  = int(input('n값을 입력하세요.:'))\n",
        "    if n > 0:\n",
        "        break"
      ],
      "execution_count": null,
      "outputs": []
    },
    {
      "cell_type": "code",
      "metadata": {
        "id": "O3ohaEZWdSN0"
      },
      "source": [
        "#1 - 17\n",
        "# 가로,세로\n",
        "area = int(input('직사각형의 넓이를 입력하세요.'))\n",
        "\n",
        "for i in range(1,area+1): #1부터 계산\n",
        "    if i * i > area: break\n",
        "    if area % i: continue #i로 나누었을 때 나누어지면 약수라는 뜻이기 때문에 조건에 충족\n",
        "    print(f'{i} * {area//i}')\n"
      ],
      "execution_count": null,
      "outputs": []
    },
    {
      "cell_type": "code",
      "metadata": {
        "colab": {
          "base_uri": "https://localhost:8080/",
          "height": 136
        },
        "id": "uc42eHipg1YB",
        "outputId": "4e405f0e-2e95-4813-a5a5-6b2704584a47"
      },
      "source": [
        "#1-18\n",
        "#10~99 사이의 난수 n개 생성하기\n",
        "\n",
        "import random\n",
        "\n",
        "n = int(input('난수의 갯수를 입력하세요'))\n",
        "\n",
        "for _ in range(n):\n",
        "    r = rangdom.randint(10,100):\n",
        "    print(r,end = \"\")\n",
        "    if r == 13:\n",
        "        print('\\n 프로그램 종료')\n",
        "        break\n",
        "else:\n",
        "    print('\\n난수 생성 종료')"
      ],
      "execution_count": 1,
      "outputs": [
        {
          "output_type": "error",
          "ename": "SyntaxError",
          "evalue": "ignored",
          "traceback": [
            "\u001b[0;36m  File \u001b[0;32m\"<ipython-input-1-25cd6dc9cfbc>\"\u001b[0;36m, line \u001b[0;32m9\u001b[0m\n\u001b[0;31m    r = rangdom.randint(10,100):\u001b[0m\n\u001b[0m                               ^\u001b[0m\n\u001b[0;31mSyntaxError\u001b[0m\u001b[0;31m:\u001b[0m invalid syntax\n"
          ]
        }
      ]
    },
    {
      "cell_type": "code",
      "metadata": {
        "id": "DCGEwIcig13R"
      },
      "source": [
        "#1- 19\n",
        "#1~12까지 8 건너뛰고 출력\n",
        "\n",
        "for i in range(1,13):\n",
        "    if i == 8:\n",
        "        continue\n",
        "    print(i ,end =\"\")\n",
        "print()"
      ],
      "execution_count": null,
      "outputs": []
    },
    {
      "cell_type": "code",
      "metadata": {
        "colab": {
          "base_uri": "https://localhost:8080/"
        },
        "id": "eI1Wx-pgiBrh",
        "outputId": "a229c72e-3cf9-4d5b-b317-72e4128eecbf"
      },
      "source": [
        "#1 - 21\n",
        "#구구단 곱셈표\n",
        "print('-' *27)\n",
        "for i in range(1,10):\n",
        "    for j in range(1,10):\n",
        "        print(f'{i * j:3}', end = \"\") #j:3 = j를 3자리로 출력 \n",
        "    print()\n",
        "print('-'* 27)\n",
        " "
      ],
      "execution_count": 3,
      "outputs": [
        {
          "output_type": "stream",
          "name": "stdout",
          "text": [
            "---------------------------\n",
            "  1  2  3  4  5  6  7  8  9\n",
            "  2  4  6  8 10 12 14 16 18\n",
            "  3  6  9 12 15 18 21 24 27\n",
            "  4  8 12 16 20 24 28 32 36\n",
            "  5 10 15 20 25 30 35 40 45\n",
            "  6 12 18 24 30 36 42 48 54\n",
            "  7 14 21 28 35 42 49 56 63\n",
            "  8 16 24 32 40 48 56 64 72\n",
            "  9 18 27 36 45 54 63 72 81\n",
            "---------------------------\n"
          ]
        }
      ]
    },
    {
      "cell_type": "code",
      "metadata": {
        "id": "5BvEvYghnVOq"
      },
      "source": [
        "#1- 22\n",
        "#왼쪽 아래가 직각인 이등벼 삼각형으로 *출력\n",
        "\n",
        "print('왼쪽 아래가 직각인 이등변 삼각형 출력')\n",
        "n = int(input('짧은 변의 길이 입력:'))\n",
        "\n",
        "for i in range(n):\n",
        "    for j in range(i +1):\n",
        "        print('*',end = '')\n",
        "    print()"
      ],
      "execution_count": null,
      "outputs": []
    }
  ]
}